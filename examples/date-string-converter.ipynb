{
  "cells": [
    {
      "cell_type": "markdown",
      "metadata": {
        "id": "date_converter_title"
      },
      "source": [
        "# Date String Converter using Encoder-Decoder Architecture\n",
        "\n",
        "[![Open In Colab](https://colab.research.google.com/assets/colab-badge.svg)](https://colab.research.google.com/github/vuhung16au/nlp-learning-journey/blob/main/examples/date-string-converter.ipynb)\n",
        "\n",
        "## Overview\n",
        "\n",
        "This notebook demonstrates how to build an Encoder-Decoder model that converts date strings from natural language format (e.g., \"April 22, 2019\") to ISO format (e.g., \"2019-04-22\"). We'll use a character-level sequence-to-sequence approach with LSTM networks in TensorFlow/Keras.\n",
        "\n",
        "## What You'll Learn\n",
        "\n",
        "- Sequence-to-sequence modeling for string transformation\n",
        "- Character-level tokenization for date processing\n",
        "- LSTM Encoder-Decoder architecture\n",
        "- Data generation for training date conversion models\n",
        "- Model training and evaluation techniques\n",
        "- Inference and prediction on new date strings\n",
        "\n",
        "## Prerequisites\n",
        "\n",
        "Basic understanding of Python, neural networks, and sequence-to-sequence models."
      ]
    },
    {
      "cell_type": "code",
      "execution_count": 1,
      "metadata": {
        "id": "setup",
        "outputId": "de813c83-2994-4f07-b8af-add36b893bbc",
        "colab": {
          "base_uri": "https://localhost:8080/"
        }
      },
      "outputs": [
        {
          "output_type": "stream",
          "name": "stdout",
          "text": [
            "Environment detected:\n",
            "  - Local: False\n",
            "  - Google Colab: True\n",
            "  - Kaggle: False\n",
            "\n",
            "Setting up Google Colab environment...\n",
            "38 packages can be upgraded. Run 'apt list --upgradable' to see them.\n",
            "\u001b[1;33mW: \u001b[0mSkipping acquire of configured file 'main/source/Sources' as repository 'https://r2u.stat.illinois.edu/ubuntu jammy InRelease' does not seem to provide it (sources.list entry misspelt?)\u001b[0m\n",
            "libpq-dev is already the newest version (14.19-0ubuntu0.22.04.1).\n",
            "libpq-dev set to manually installed.\n",
            "0 upgraded, 0 newly installed, 0 to remove and 38 not upgraded.\n",
            "\n",
            "Installing required packages...\n",
            "✓ tensorflow\n",
            "✓ numpy\n",
            "✓ pandas\n",
            "✓ matplotlib\n",
            "✓ seaborn\n",
            "✓ datetime (built-in)\n",
            "\n",
            "🎉 Environment setup complete!\n"
          ]
        }
      ],
      "source": [
        "# Environment Detection and Setup\n",
        "import sys\n",
        "import subprocess\n",
        "import os\n",
        "import time\n",
        "\n",
        "# Detect the runtime environment\n",
        "IS_COLAB = \"google.colab\" in sys.modules\n",
        "IS_KAGGLE = \"kaggle_secrets\" in sys.modules\n",
        "IS_LOCAL = not (IS_COLAB or IS_KAGGLE)\n",
        "\n",
        "print(f\"Environment detected:\")\n",
        "print(f\"  - Local: {IS_LOCAL}\")\n",
        "print(f\"  - Google Colab: {IS_COLAB}\")\n",
        "print(f\"  - Kaggle: {IS_KAGGLE}\")\n",
        "\n",
        "# Platform-specific system setup\n",
        "if IS_COLAB:\n",
        "    print(\"\\nSetting up Google Colab environment...\")\n",
        "    !apt update -qq\n",
        "    !apt install -y -qq libpq-dev\n",
        "elif IS_KAGGLE:\n",
        "    print(\"\\nSetting up Kaggle environment...\")\n",
        "    # Kaggle usually has most packages pre-installed\n",
        "else:\n",
        "    print(\"\\nSetting up local environment...\")\n",
        "\n",
        "# TensorFlow logging setup\n",
        "def setup_tensorflow_logging():\n",
        "    \\\"\\\"\\\"Setup platform-specific TensorFlow logging directories.\\\"\\\"\\\"\n",
        "    if IS_COLAB:\n",
        "        root_logdir = \\\"/content/tensorflow_logs\\\"\n",
        "    elif IS_KAGGLE:\n",
        "        root_logdir = \\\"./tensorflow_logs\\\"\n",
        "    else:\n",
        "        root_logdir = os.path.join(os.getcwd(), \\\"tensorflow_logs\\\")\n",
        "    \n",
        "    os.makedirs(root_logdir, exist_ok=True)\n",
        "    return root_logdir\n",
        "\n",
        "def get_run_logdir(experiment_name=\\\"run\\\"):\n",
        "    \\\"\\\"\\\"Generate unique run directory for TensorBoard logs.\\\"\\\"\\\"\n",
        "    root_logdir = setup_tensorflow_logging()\n",
        "    run_id = time.strftime(f\\\"{experiment_name}_%Y_%m_%d-%H_%M_%S\\\")\n",
        "    return os.path.join(root_logdir, run_id)\n",
        "\n",
        "# Install required packages for this notebook\n",
        "required_packages = [\n",
        "    \"tensorflow\",\n",
        "    \"numpy\",\n",
        "    \"pandas\",\n",
        "    \"matplotlib\",\n",
        "    \"seaborn\",\n",
        "    \"datetime\"\n",
        "]\n",
        "\n",
        "print(\"\\nInstalling required packages...\")\n",
        "for package in required_packages:\n",
        "    if package == \"datetime\":  # datetime is built-in\n",
        "        print(f\"✓ {package} (built-in)\")\n",
        "        continue\n",
        "    if IS_COLAB or IS_KAGGLE:\n",
        "        !pip install -q {package}\n",
        "    else:\n",
        "        subprocess.run([sys.executable, \"-m\", \"pip\", \"install\", \"-q\", package],\n",
        "                      capture_output=True)\n",
        "    print(f\"✓ {package}\")\n",
        "\n",
        "print(\"\\n🎉 Environment setup complete!\")"
      ]
    },
    {
      "cell_type": "code",
      "execution_count": 2,
      "metadata": {
        "id": "imports",
        "outputId": "37c975f7-d6d5-469a-c2ab-8555bbee3b78",
        "colab": {
          "base_uri": "https://localhost:8080/"
        }
      },
      "outputs": [
        {
          "output_type": "stream",
          "name": "stdout",
          "text": [
            "TensorFlow version: 2.19.0\n",
            "GPU Available: []\n"
          ]
        }
      ],
      "source": [
        "import pandas as pd\n",
        "import numpy as np\n",
        "import matplotlib.pyplot as plt\n",
        "import seaborn as sns\n",
        "import tensorflow as tf\n",
        "from tensorflow import keras\n",
        "from tensorflow.keras.models import Model\n",
        "from tensorflow.keras.layers import Input, LSTM, Dense, Embedding\n",
        "from tensorflow.keras.optimizers import Adam\n",
        "from tensorflow.keras.utils import to_categorical\n",
        "import random\n",
        "import datetime\n",
        "import re\n",
        "from collections import Counter\n",
        "\n",
        "# Set random seeds for reproducibility\n",
        "np.random.seed(42)\n",
        "tf.random.set_seed(42)\n",
        "random.seed(42)\n",
        "\n",
        "print(f\"TensorFlow version: {tf.__version__}\")\n",
        "print(f\"GPU Available: {tf.config.list_physical_devices('GPU')}\")"
      ]
    },
    {
      "cell_type": "markdown",
      "metadata": {
        "id": "data_generation"
      },
      "source": [
        "## 1. Data Generation\n",
        "\n",
        "We'll generate synthetic training data with various date formats commonly found in natural language text."
      ]
    },
    {
      "cell_type": "code",
      "execution_count": 3,
      "metadata": {
        "id": "date_data_generator",
        "outputId": "d21fd8fa-fe63-4f37-e296-c0c29a6f0a62",
        "colab": {
          "base_uri": "https://localhost:8080/"
        }
      },
      "outputs": [
        {
          "output_type": "stream",
          "name": "stdout",
          "text": [
            "Generated 8500 date conversion pairs\n",
            "\n",
            "Sample date pairs:\n",
            "  1/24/1928                 → 1928-01-24\n",
            "  April 5, 1962             → 1962-04-05\n",
            "  January 1, 2008           → 2008-01-01\n",
            "  September 20, 1959        → 1959-09-20\n",
            "  4/15/2007                 → 2007-04-15\n",
            "  23 Mar 1901               → 1901-03-23\n",
            "  3/7/1971                  → 1971-03-07\n",
            "  Feb 13, 1926              → 1926-02-13\n",
            "  Oct 9, 1988               → 1988-10-09\n",
            "  7/3/1931                  → 1931-07-03\n"
          ]
        }
      ],
      "source": [
        "class DateStringGenerator:\n",
        "    \"\"\"Generate synthetic date strings for training the encoder-decoder model.\"\"\"\n",
        "\n",
        "    def __init__(self):\n",
        "        self.months = {\n",
        "            1: ['January', 'Jan'], 2: ['February', 'Feb'], 3: ['March', 'Mar'],\n",
        "            4: ['April', 'Apr'], 5: ['May'], 6: ['June', 'Jun'],\n",
        "            7: ['July', 'Jul'], 8: ['August', 'Aug'], 9: ['September', 'Sep'],\n",
        "            10: ['October', 'Oct'], 11: ['November', 'Nov'], 12: ['December', 'Dec']\n",
        "        }\n",
        "\n",
        "        # Add Vietnamese month names for cross-lingual examples\n",
        "        self.vietnamese_months = {\n",
        "            1: 'tháng một', 2: 'tháng hai', 3: 'tháng ba', 4: 'tháng tư',\n",
        "            5: 'tháng năm', 6: 'tháng sáu', 7: 'tháng bảy', 8: 'tháng tám',\n",
        "            9: 'tháng chín', 10: 'tháng mười', 11: 'tháng mười một', 12: 'tháng mười hai'\n",
        "        }\n",
        "\n",
        "    def generate_date_pairs(self, num_samples=10000):\n",
        "        \"\"\"Generate pairs of (natural_format, iso_format) date strings.\"\"\"\n",
        "        pairs = []\n",
        "\n",
        "        for _ in range(num_samples):\n",
        "            # Generate random date\n",
        "            year = random.randint(1900, 2030)\n",
        "            month = random.randint(1, 12)\n",
        "            day = random.randint(1, 28)  # Safe for all months\n",
        "\n",
        "            # Create ISO format (target)\n",
        "            iso_date = f\"{year:04d}-{month:02d}-{day:02d}\"\n",
        "\n",
        "            # Create natural language format (source)\n",
        "            format_choice = random.choice(['full_month', 'short_month', 'numeric', 'reverse'])\n",
        "\n",
        "            if format_choice == 'full_month':\n",
        "                month_name = random.choice(self.months[month])\n",
        "                natural_date = f\"{month_name} {day}, {year}\"\n",
        "            elif format_choice == 'short_month':\n",
        "                month_name = self.months[month][-1] if len(self.months[month]) > 1 else self.months[month][0]\n",
        "                natural_date = f\"{month_name} {day}, {year}\"\n",
        "            elif format_choice == 'numeric':\n",
        "                natural_date = f\"{month}/{day}/{year}\"\n",
        "            else:  # reverse\n",
        "                month_name = random.choice(self.months[month])\n",
        "                natural_date = f\"{day} {month_name} {year}\"\n",
        "\n",
        "            pairs.append((natural_date, iso_date))\n",
        "\n",
        "        return pairs\n",
        "\n",
        "    def add_vietnamese_examples(self, pairs, num_vietnamese=500):\n",
        "        \"\"\"Add Vietnamese date examples for cross-lingual capability.\"\"\"\n",
        "        vietnamese_pairs = []\n",
        "\n",
        "        for _ in range(num_vietnamese):\n",
        "            year = random.randint(2000, 2030)\n",
        "            month = random.randint(1, 12)\n",
        "            day = random.randint(1, 28)\n",
        "\n",
        "            iso_date = f\"{year:04d}-{month:02d}-{day:02d}\"\n",
        "            vietnamese_month = self.vietnamese_months[month]\n",
        "            natural_date = f\"ngày {day} {vietnamese_month} năm {year}\"\n",
        "\n",
        "            vietnamese_pairs.append((natural_date, iso_date))\n",
        "\n",
        "        return pairs + vietnamese_pairs\n",
        "\n",
        "# Generate training data\n",
        "generator = DateStringGenerator()\n",
        "date_pairs = generator.generate_date_pairs(8000)\n",
        "date_pairs = generator.add_vietnamese_examples(date_pairs, 500)\n",
        "\n",
        "print(f\"Generated {len(date_pairs)} date conversion pairs\")\n",
        "print(\"\\nSample date pairs:\")\n",
        "for i in range(10):\n",
        "    source, target = date_pairs[i]\n",
        "    print(f\"  {source:25} → {target}\")"
      ]
    },
    {
      "cell_type": "markdown",
      "metadata": {
        "id": "data_preprocessing"
      },
      "source": [
        "## 2. Data Preprocessing\n",
        "\n",
        "We'll implement character-level tokenization and prepare the data for sequence-to-sequence training."
      ]
    },
    {
      "cell_type": "code",
      "execution_count": 4,
      "metadata": {
        "id": "tokenization",
        "outputId": "bb4e7b48-c385-4e53-d9a6-38c0f12ac3cb",
        "colab": {
          "base_uri": "https://localhost:8080/"
        }
      },
      "outputs": [
        {
          "output_type": "stream",
          "name": "stdout",
          "text": [
            "Vocabulary size: 51\n",
            "Characters:  ,-/0123456789<END><PAD><START>ADFJMNOSabceghilmnoprstuvyàáíăưảộ...\n",
            "Max source length: 32\n",
            "Max target length: 12\n"
          ]
        }
      ],
      "source": [
        "class CharacterTokenizer:\n",
        "    \"\"\"Character-level tokenizer for date strings.\"\"\"\n",
        "\n",
        "    def __init__(self):\n",
        "        self.char_to_index = {}\n",
        "        self.index_to_char = {}\n",
        "        self.vocab_size = 0\n",
        "\n",
        "        # Special tokens\n",
        "        self.start_token = '<START>'\n",
        "        self.end_token = '<END>'\n",
        "        self.pad_token = '<PAD>'\n",
        "\n",
        "    def build_vocab(self, texts):\n",
        "        \"\"\"Build character vocabulary from texts.\"\"\"\n",
        "        all_chars = set()\n",
        "\n",
        "        # Add special tokens\n",
        "        all_chars.update([self.start_token, self.end_token, self.pad_token])\n",
        "\n",
        "        # Collect all characters\n",
        "        for text in texts:\n",
        "            all_chars.update(list(text))\n",
        "\n",
        "        # Create mappings\n",
        "        sorted_chars = sorted(list(all_chars))\n",
        "        self.char_to_index = {char: i for i, char in enumerate(sorted_chars)}\n",
        "        self.index_to_char = {i: char for char, i in self.char_to_index.items()}\n",
        "        self.vocab_size = len(sorted_chars)\n",
        "\n",
        "        print(f\"Vocabulary size: {self.vocab_size}\")\n",
        "        print(f\"Characters: {''.join(sorted_chars[:50])}...\")\n",
        "\n",
        "    def encode(self, text, max_length=None):\n",
        "        \"\"\"Encode text to indices.\"\"\"\n",
        "        indices = [self.char_to_index[char] for char in text if char in self.char_to_index]\n",
        "\n",
        "        if max_length:\n",
        "            # Pad or truncate\n",
        "            if len(indices) < max_length:\n",
        "                indices.extend([self.char_to_index[self.pad_token]] * (max_length - len(indices)))\n",
        "            else:\n",
        "                indices = indices[:max_length]\n",
        "\n",
        "        return indices\n",
        "\n",
        "    def decode(self, indices):\n",
        "        \"\"\"Decode indices to text.\"\"\"\n",
        "        chars = []\n",
        "        for idx in indices:\n",
        "            if idx in self.index_to_char:\n",
        "                char = self.index_to_char[idx]\n",
        "                if char == self.pad_token:\n",
        "                    break\n",
        "                chars.append(char)\n",
        "        return ''.join(chars)\n",
        "\n",
        "# Prepare data\n",
        "sources = [pair[0] for pair in date_pairs]\n",
        "targets = [pair[1] for pair in date_pairs]\n",
        "\n",
        "# Build vocabularies\n",
        "all_texts = sources + targets\n",
        "tokenizer = CharacterTokenizer()\n",
        "tokenizer.build_vocab(all_texts)\n",
        "\n",
        "# Calculate max lengths\n",
        "max_source_length = max(len(s) for s in sources) + 1  # +1 for potential padding\n",
        "max_target_length = max(len(t) for t in targets) + 2  # +2 for START and END tokens\n",
        "\n",
        "print(f\"Max source length: {max_source_length}\")\n",
        "print(f\"Max target length: {max_target_length}\")"
      ]
    },
    {
      "cell_type": "code",
      "execution_count": 5,
      "metadata": {
        "id": "data_preparation",
        "outputId": "ee8e6394-4400-48a2-ec4d-4cd04eb0a758",
        "colab": {
          "base_uri": "https://localhost:8080/"
        }
      },
      "outputs": [
        {
          "output_type": "stream",
          "name": "stdout",
          "text": [
            "Encoder input shape: (8500, 32)\n",
            "Decoder input shape: (8500, 12)\n",
            "Decoder target shape: (8500, 12, 51)\n",
            "\n",
            "Training set size: 6800\n",
            "Validation set size: 1700\n"
          ]
        }
      ],
      "source": [
        "def prepare_sequences(sources, targets, tokenizer, max_source_len, max_target_len):\n",
        "    \"\"\"Prepare input and output sequences for training.\"\"\"\n",
        "\n",
        "    encoder_input_data = np.zeros((len(sources), max_source_len), dtype='int32')\n",
        "    decoder_input_data = np.zeros((len(targets), max_target_len), dtype='int32')\n",
        "    decoder_target_data = np.zeros((len(targets), max_target_len), dtype='int32')\n",
        "\n",
        "    for i, (source, target) in enumerate(zip(sources, targets)):\n",
        "        # Encoder input\n",
        "        encoder_input_data[i, :len(source)] = tokenizer.encode(source)[:max_source_len]\n",
        "\n",
        "        # Decoder input (with START token)\n",
        "        target_with_start = tokenizer.start_token + target\n",
        "        decoder_input_data[i, :len(target_with_start)] = tokenizer.encode(target_with_start)[:max_target_len]\n",
        "\n",
        "        # Decoder target (with END token)\n",
        "        target_with_end = target + tokenizer.end_token\n",
        "        decoder_target_data[i, :len(target_with_end)] = tokenizer.encode(target_with_end)[:max_target_len]\n",
        "\n",
        "    return encoder_input_data, decoder_input_data, decoder_target_data\n",
        "\n",
        "# Prepare training data\n",
        "encoder_input_data, decoder_input_data, decoder_target_data = prepare_sequences(\n",
        "    sources, targets, tokenizer, max_source_length, max_target_length\n",
        ")\n",
        "\n",
        "# Convert to one-hot for decoder targets\n",
        "decoder_target_data_one_hot = to_categorical(decoder_target_data, num_classes=tokenizer.vocab_size)\n",
        "\n",
        "print(f\"Encoder input shape: {encoder_input_data.shape}\")\n",
        "print(f\"Decoder input shape: {decoder_input_data.shape}\")\n",
        "print(f\"Decoder target shape: {decoder_target_data_one_hot.shape}\")\n",
        "\n",
        "# Split data\n",
        "split_idx = int(0.8 * len(date_pairs))\n",
        "train_encoder_input = encoder_input_data[:split_idx]\n",
        "train_decoder_input = decoder_input_data[:split_idx]\n",
        "train_decoder_target = decoder_target_data_one_hot[:split_idx]\n",
        "\n",
        "val_encoder_input = encoder_input_data[split_idx:]\n",
        "val_decoder_input = decoder_input_data[split_idx:]\n",
        "val_decoder_target = decoder_target_data_one_hot[split_idx:]\n",
        "\n",
        "print(f\"\\nTraining set size: {len(train_encoder_input)}\")\n",
        "print(f\"Validation set size: {len(val_encoder_input)}\")"
      ]
    },
    {
      "cell_type": "markdown",
      "metadata": {
        "id": "model_architecture"
      },
      "source": [
        "## 3. Encoder-Decoder Model Architecture\n",
        "\n",
        "We'll build an LSTM-based encoder-decoder model for sequence-to-sequence date conversion."
      ]
    },
    {
      "cell_type": "code",
      "execution_count": 6,
      "metadata": {
        "id": "model_definition",
        "outputId": "60bd09e7-2c5b-471d-a119-32ade660b8c1",
        "colab": {
          "base_uri": "https://localhost:8080/",
          "height": 579
        }
      },
      "outputs": [
        {
          "output_type": "stream",
          "name": "stdout",
          "text": [
            "Model created successfully!\n"
          ]
        },
        {
          "output_type": "display_data",
          "data": {
            "text/plain": [
              "\u001b[1mModel: \"functional\"\u001b[0m\n"
            ],
            "text/html": [
              "<pre style=\"white-space:pre;overflow-x:auto;line-height:normal;font-family:Menlo,'DejaVu Sans Mono',consolas,'Courier New',monospace\"><span style=\"font-weight: bold\">Model: \"functional\"</span>\n",
              "</pre>\n"
            ]
          },
          "metadata": {}
        },
        {
          "output_type": "display_data",
          "data": {
            "text/plain": [
              "┏━━━━━━━━━━━━━━━━━━━━━┳━━━━━━━━━━━━━━━━━━━┳━━━━━━━━━━━━┳━━━━━━━━━━━━━━━━━━━┓\n",
              "┃\u001b[1m \u001b[0m\u001b[1mLayer (type)       \u001b[0m\u001b[1m \u001b[0m┃\u001b[1m \u001b[0m\u001b[1mOutput Shape     \u001b[0m\u001b[1m \u001b[0m┃\u001b[1m \u001b[0m\u001b[1m   Param #\u001b[0m\u001b[1m \u001b[0m┃\u001b[1m \u001b[0m\u001b[1mConnected to     \u001b[0m\u001b[1m \u001b[0m┃\n",
              "┡━━━━━━━━━━━━━━━━━━━━━╇━━━━━━━━━━━━━━━━━━━╇━━━━━━━━━━━━╇━━━━━━━━━━━━━━━━━━━┩\n",
              "│ encoder_input       │ (\u001b[38;5;45mNone\u001b[0m, \u001b[38;5;34m32\u001b[0m)        │          \u001b[38;5;34m0\u001b[0m │ -                 │\n",
              "│ (\u001b[38;5;33mInputLayer\u001b[0m)        │                   │            │                   │\n",
              "├─────────────────────┼───────────────────┼────────────┼───────────────────┤\n",
              "│ decoder_input       │ (\u001b[38;5;45mNone\u001b[0m, \u001b[38;5;34m12\u001b[0m)        │          \u001b[38;5;34m0\u001b[0m │ -                 │\n",
              "│ (\u001b[38;5;33mInputLayer\u001b[0m)        │                   │            │                   │\n",
              "├─────────────────────┼───────────────────┼────────────┼───────────────────┤\n",
              "│ embedding           │ (\u001b[38;5;45mNone\u001b[0m, \u001b[38;5;34m32\u001b[0m, \u001b[38;5;34m64\u001b[0m)    │      \u001b[38;5;34m3,264\u001b[0m │ encoder_input[\u001b[38;5;34m0\u001b[0m]… │\n",
              "│ (\u001b[38;5;33mEmbedding\u001b[0m)         │                   │            │                   │\n",
              "├─────────────────────┼───────────────────┼────────────┼───────────────────┤\n",
              "│ not_equal           │ (\u001b[38;5;45mNone\u001b[0m, \u001b[38;5;34m32\u001b[0m)        │          \u001b[38;5;34m0\u001b[0m │ encoder_input[\u001b[38;5;34m0\u001b[0m]… │\n",
              "│ (\u001b[38;5;33mNotEqual\u001b[0m)          │                   │            │                   │\n",
              "├─────────────────────┼───────────────────┼────────────┼───────────────────┤\n",
              "│ embedding_1         │ (\u001b[38;5;45mNone\u001b[0m, \u001b[38;5;34m12\u001b[0m, \u001b[38;5;34m64\u001b[0m)    │      \u001b[38;5;34m3,264\u001b[0m │ decoder_input[\u001b[38;5;34m0\u001b[0m]… │\n",
              "│ (\u001b[38;5;33mEmbedding\u001b[0m)         │                   │            │                   │\n",
              "├─────────────────────┼───────────────────┼────────────┼───────────────────┤\n",
              "│ encoder_lstm (\u001b[38;5;33mLSTM\u001b[0m) │ [(\u001b[38;5;45mNone\u001b[0m, \u001b[38;5;34m128\u001b[0m),     │     \u001b[38;5;34m98,816\u001b[0m │ embedding[\u001b[38;5;34m0\u001b[0m][\u001b[38;5;34m0\u001b[0m],  │\n",
              "│                     │ (\u001b[38;5;45mNone\u001b[0m, \u001b[38;5;34m128\u001b[0m),      │            │ not_equal[\u001b[38;5;34m0\u001b[0m][\u001b[38;5;34m0\u001b[0m]   │\n",
              "│                     │ (\u001b[38;5;45mNone\u001b[0m, \u001b[38;5;34m128\u001b[0m)]      │            │                   │\n",
              "├─────────────────────┼───────────────────┼────────────┼───────────────────┤\n",
              "│ decoder_lstm (\u001b[38;5;33mLSTM\u001b[0m) │ [(\u001b[38;5;45mNone\u001b[0m, \u001b[38;5;34m12\u001b[0m, \u001b[38;5;34m128\u001b[0m), │     \u001b[38;5;34m98,816\u001b[0m │ embedding_1[\u001b[38;5;34m0\u001b[0m][\u001b[38;5;34m0\u001b[0m… │\n",
              "│                     │ (\u001b[38;5;45mNone\u001b[0m, \u001b[38;5;34m128\u001b[0m),      │            │ encoder_lstm[\u001b[38;5;34m0\u001b[0m][\u001b[38;5;34m…\u001b[0m │\n",
              "│                     │ (\u001b[38;5;45mNone\u001b[0m, \u001b[38;5;34m128\u001b[0m)]      │            │ encoder_lstm[\u001b[38;5;34m0\u001b[0m][\u001b[38;5;34m…\u001b[0m │\n",
              "├─────────────────────┼───────────────────┼────────────┼───────────────────┤\n",
              "│ decoder_output      │ (\u001b[38;5;45mNone\u001b[0m, \u001b[38;5;34m12\u001b[0m, \u001b[38;5;34m51\u001b[0m)    │      \u001b[38;5;34m6,579\u001b[0m │ decoder_lstm[\u001b[38;5;34m0\u001b[0m][\u001b[38;5;34m…\u001b[0m │\n",
              "│ (\u001b[38;5;33mDense\u001b[0m)             │                   │            │                   │\n",
              "└─────────────────────┴───────────────────┴────────────┴───────────────────┘\n"
            ],
            "text/html": [
              "<pre style=\"white-space:pre;overflow-x:auto;line-height:normal;font-family:Menlo,'DejaVu Sans Mono',consolas,'Courier New',monospace\">┏━━━━━━━━━━━━━━━━━━━━━┳━━━━━━━━━━━━━━━━━━━┳━━━━━━━━━━━━┳━━━━━━━━━━━━━━━━━━━┓\n",
              "┃<span style=\"font-weight: bold\"> Layer (type)        </span>┃<span style=\"font-weight: bold\"> Output Shape      </span>┃<span style=\"font-weight: bold\">    Param # </span>┃<span style=\"font-weight: bold\"> Connected to      </span>┃\n",
              "┡━━━━━━━━━━━━━━━━━━━━━╇━━━━━━━━━━━━━━━━━━━╇━━━━━━━━━━━━╇━━━━━━━━━━━━━━━━━━━┩\n",
              "│ encoder_input       │ (<span style=\"color: #00d7ff; text-decoration-color: #00d7ff\">None</span>, <span style=\"color: #00af00; text-decoration-color: #00af00\">32</span>)        │          <span style=\"color: #00af00; text-decoration-color: #00af00\">0</span> │ -                 │\n",
              "│ (<span style=\"color: #0087ff; text-decoration-color: #0087ff\">InputLayer</span>)        │                   │            │                   │\n",
              "├─────────────────────┼───────────────────┼────────────┼───────────────────┤\n",
              "│ decoder_input       │ (<span style=\"color: #00d7ff; text-decoration-color: #00d7ff\">None</span>, <span style=\"color: #00af00; text-decoration-color: #00af00\">12</span>)        │          <span style=\"color: #00af00; text-decoration-color: #00af00\">0</span> │ -                 │\n",
              "│ (<span style=\"color: #0087ff; text-decoration-color: #0087ff\">InputLayer</span>)        │                   │            │                   │\n",
              "├─────────────────────┼───────────────────┼────────────┼───────────────────┤\n",
              "│ embedding           │ (<span style=\"color: #00d7ff; text-decoration-color: #00d7ff\">None</span>, <span style=\"color: #00af00; text-decoration-color: #00af00\">32</span>, <span style=\"color: #00af00; text-decoration-color: #00af00\">64</span>)    │      <span style=\"color: #00af00; text-decoration-color: #00af00\">3,264</span> │ encoder_input[<span style=\"color: #00af00; text-decoration-color: #00af00\">0</span>]… │\n",
              "│ (<span style=\"color: #0087ff; text-decoration-color: #0087ff\">Embedding</span>)         │                   │            │                   │\n",
              "├─────────────────────┼───────────────────┼────────────┼───────────────────┤\n",
              "│ not_equal           │ (<span style=\"color: #00d7ff; text-decoration-color: #00d7ff\">None</span>, <span style=\"color: #00af00; text-decoration-color: #00af00\">32</span>)        │          <span style=\"color: #00af00; text-decoration-color: #00af00\">0</span> │ encoder_input[<span style=\"color: #00af00; text-decoration-color: #00af00\">0</span>]… │\n",
              "│ (<span style=\"color: #0087ff; text-decoration-color: #0087ff\">NotEqual</span>)          │                   │            │                   │\n",
              "├─────────────────────┼───────────────────┼────────────┼───────────────────┤\n",
              "│ embedding_1         │ (<span style=\"color: #00d7ff; text-decoration-color: #00d7ff\">None</span>, <span style=\"color: #00af00; text-decoration-color: #00af00\">12</span>, <span style=\"color: #00af00; text-decoration-color: #00af00\">64</span>)    │      <span style=\"color: #00af00; text-decoration-color: #00af00\">3,264</span> │ decoder_input[<span style=\"color: #00af00; text-decoration-color: #00af00\">0</span>]… │\n",
              "│ (<span style=\"color: #0087ff; text-decoration-color: #0087ff\">Embedding</span>)         │                   │            │                   │\n",
              "├─────────────────────┼───────────────────┼────────────┼───────────────────┤\n",
              "│ encoder_lstm (<span style=\"color: #0087ff; text-decoration-color: #0087ff\">LSTM</span>) │ [(<span style=\"color: #00d7ff; text-decoration-color: #00d7ff\">None</span>, <span style=\"color: #00af00; text-decoration-color: #00af00\">128</span>),     │     <span style=\"color: #00af00; text-decoration-color: #00af00\">98,816</span> │ embedding[<span style=\"color: #00af00; text-decoration-color: #00af00\">0</span>][<span style=\"color: #00af00; text-decoration-color: #00af00\">0</span>],  │\n",
              "│                     │ (<span style=\"color: #00d7ff; text-decoration-color: #00d7ff\">None</span>, <span style=\"color: #00af00; text-decoration-color: #00af00\">128</span>),      │            │ not_equal[<span style=\"color: #00af00; text-decoration-color: #00af00\">0</span>][<span style=\"color: #00af00; text-decoration-color: #00af00\">0</span>]   │\n",
              "│                     │ (<span style=\"color: #00d7ff; text-decoration-color: #00d7ff\">None</span>, <span style=\"color: #00af00; text-decoration-color: #00af00\">128</span>)]      │            │                   │\n",
              "├─────────────────────┼───────────────────┼────────────┼───────────────────┤\n",
              "│ decoder_lstm (<span style=\"color: #0087ff; text-decoration-color: #0087ff\">LSTM</span>) │ [(<span style=\"color: #00d7ff; text-decoration-color: #00d7ff\">None</span>, <span style=\"color: #00af00; text-decoration-color: #00af00\">12</span>, <span style=\"color: #00af00; text-decoration-color: #00af00\">128</span>), │     <span style=\"color: #00af00; text-decoration-color: #00af00\">98,816</span> │ embedding_1[<span style=\"color: #00af00; text-decoration-color: #00af00\">0</span>][<span style=\"color: #00af00; text-decoration-color: #00af00\">0</span>… │\n",
              "│                     │ (<span style=\"color: #00d7ff; text-decoration-color: #00d7ff\">None</span>, <span style=\"color: #00af00; text-decoration-color: #00af00\">128</span>),      │            │ encoder_lstm[<span style=\"color: #00af00; text-decoration-color: #00af00\">0</span>][<span style=\"color: #00af00; text-decoration-color: #00af00\">…</span> │\n",
              "│                     │ (<span style=\"color: #00d7ff; text-decoration-color: #00d7ff\">None</span>, <span style=\"color: #00af00; text-decoration-color: #00af00\">128</span>)]      │            │ encoder_lstm[<span style=\"color: #00af00; text-decoration-color: #00af00\">0</span>][<span style=\"color: #00af00; text-decoration-color: #00af00\">…</span> │\n",
              "├─────────────────────┼───────────────────┼────────────┼───────────────────┤\n",
              "│ decoder_output      │ (<span style=\"color: #00d7ff; text-decoration-color: #00d7ff\">None</span>, <span style=\"color: #00af00; text-decoration-color: #00af00\">12</span>, <span style=\"color: #00af00; text-decoration-color: #00af00\">51</span>)    │      <span style=\"color: #00af00; text-decoration-color: #00af00\">6,579</span> │ decoder_lstm[<span style=\"color: #00af00; text-decoration-color: #00af00\">0</span>][<span style=\"color: #00af00; text-decoration-color: #00af00\">…</span> │\n",
              "│ (<span style=\"color: #0087ff; text-decoration-color: #0087ff\">Dense</span>)             │                   │            │                   │\n",
              "└─────────────────────┴───────────────────┴────────────┴───────────────────┘\n",
              "</pre>\n"
            ]
          },
          "metadata": {}
        },
        {
          "output_type": "display_data",
          "data": {
            "text/plain": [
              "\u001b[1m Total params: \u001b[0m\u001b[38;5;34m210,739\u001b[0m (823.20 KB)\n"
            ],
            "text/html": [
              "<pre style=\"white-space:pre;overflow-x:auto;line-height:normal;font-family:Menlo,'DejaVu Sans Mono',consolas,'Courier New',monospace\"><span style=\"font-weight: bold\"> Total params: </span><span style=\"color: #00af00; text-decoration-color: #00af00\">210,739</span> (823.20 KB)\n",
              "</pre>\n"
            ]
          },
          "metadata": {}
        },
        {
          "output_type": "display_data",
          "data": {
            "text/plain": [
              "\u001b[1m Trainable params: \u001b[0m\u001b[38;5;34m210,739\u001b[0m (823.20 KB)\n"
            ],
            "text/html": [
              "<pre style=\"white-space:pre;overflow-x:auto;line-height:normal;font-family:Menlo,'DejaVu Sans Mono',consolas,'Courier New',monospace\"><span style=\"font-weight: bold\"> Trainable params: </span><span style=\"color: #00af00; text-decoration-color: #00af00\">210,739</span> (823.20 KB)\n",
              "</pre>\n"
            ]
          },
          "metadata": {}
        },
        {
          "output_type": "display_data",
          "data": {
            "text/plain": [
              "\u001b[1m Non-trainable params: \u001b[0m\u001b[38;5;34m0\u001b[0m (0.00 B)\n"
            ],
            "text/html": [
              "<pre style=\"white-space:pre;overflow-x:auto;line-height:normal;font-family:Menlo,'DejaVu Sans Mono',consolas,'Courier New',monospace\"><span style=\"font-weight: bold\"> Non-trainable params: </span><span style=\"color: #00af00; text-decoration-color: #00af00\">0</span> (0.00 B)\n",
              "</pre>\n"
            ]
          },
          "metadata": {}
        }
      ],
      "source": [
        "def create_encoder_decoder_model(vocab_size, max_source_len, max_target_len,\n",
        "                                embedding_dim=64, hidden_dim=128):\n",
        "    \"\"\"Create encoder-decoder model for date string conversion.\"\"\"\n",
        "\n",
        "    # Encoder\n",
        "    encoder_inputs = Input(shape=(max_source_len,), name='encoder_input')\n",
        "    encoder_embedding = Embedding(vocab_size, embedding_dim, mask_zero=True)(encoder_inputs)\n",
        "    encoder_lstm = LSTM(hidden_dim, return_state=True, name='encoder_lstm')\n",
        "    encoder_outputs, state_h, state_c = encoder_lstm(encoder_embedding)\n",
        "    encoder_states = [state_h, state_c]\n",
        "\n",
        "    # Decoder\n",
        "    decoder_inputs = Input(shape=(max_target_len,), name='decoder_input')\n",
        "    decoder_embedding = Embedding(vocab_size, embedding_dim, mask_zero=True)(decoder_inputs)\n",
        "    decoder_lstm = LSTM(hidden_dim, return_sequences=True, return_state=True, name='decoder_lstm')\n",
        "    decoder_outputs, _, _ = decoder_lstm(decoder_embedding, initial_state=encoder_states)\n",
        "    decoder_dense = Dense(vocab_size, activation='softmax', name='decoder_output')\n",
        "    decoder_outputs = decoder_dense(decoder_outputs)\n",
        "\n",
        "    # Training model\n",
        "    model = Model([encoder_inputs, decoder_inputs], decoder_outputs)\n",
        "\n",
        "    # Compile model\n",
        "    model.compile(\n",
        "        optimizer=Adam(learning_rate=0.001),\n",
        "        loss='categorical_crossentropy',\n",
        "        metrics=['accuracy']\n",
        "    )\n",
        "\n",
        "    return model, encoder_inputs, encoder_states, decoder_inputs, decoder_lstm, decoder_dense\n",
        "\n",
        "# Create model\n",
        "model, encoder_inputs, encoder_states, decoder_inputs, decoder_lstm, decoder_dense = create_encoder_decoder_model(\n",
        "    vocab_size=tokenizer.vocab_size,\n",
        "    max_source_len=max_source_length,\n",
        "    max_target_len=max_target_length,\n",
        "    embedding_dim=64,\n",
        "    hidden_dim=128\n",
        ")\n",
        "\n",
        "print(\"Model created successfully!\")\n",
        "model.summary()"
      ]
    },
    {
      "cell_type": "markdown",
      "metadata": {
        "id": "training"
      },
      "source": [
        "## 4. Model Training\n",
        "\n",
        "Train the encoder-decoder model to learn date string conversions."
      ]
    },
    {
      "cell_type": "code",
      "execution_count": 7,
      "metadata": {
        "id": "model_training",
        "outputId": "a43dee7a-8af5-43df-ba88-a3d9be93e373",
        "colab": {
          "base_uri": "https://localhost:8080/"
        }
      },
      "outputs": [
        {
          "output_type": "stream",
          "name": "stdout",
          "text": [
            "Starting training...\n",
            "Epoch 1/20\n",
            "\u001b[1m107/107\u001b[0m \u001b[32m━━━━━━━━━━━━━━━━━━━━\u001b[0m\u001b[37m\u001b[0m \u001b[1m15s\u001b[0m 83ms/step - accuracy: 0.2983 - loss: 2.5845 - val_accuracy: 0.5344 - val_loss: 1.3267 - learning_rate: 0.0010\n",
            "Epoch 2/20\n",
            "\u001b[1m107/107\u001b[0m \u001b[32m━━━━━━━━━━━━━━━━━━━━\u001b[0m\u001b[37m\u001b[0m \u001b[1m7s\u001b[0m 67ms/step - accuracy: 0.6006 - loss: 1.1511 - val_accuracy: 0.6613 - val_loss: 0.9040 - learning_rate: 0.0010\n",
            "Epoch 3/20\n",
            "\u001b[1m107/107\u001b[0m \u001b[32m━━━━━━━━━━━━━━━━━━━━\u001b[0m\u001b[37m\u001b[0m \u001b[1m13s\u001b[0m 95ms/step - accuracy: 0.6803 - loss: 0.8756 - val_accuracy: 0.7208 - val_loss: 0.7876 - learning_rate: 0.0010\n",
            "Epoch 4/20\n",
            "\u001b[1m107/107\u001b[0m \u001b[32m━━━━━━━━━━━━━━━━━━━━\u001b[0m\u001b[37m\u001b[0m \u001b[1m8s\u001b[0m 78ms/step - accuracy: 0.7487 - loss: 0.7433 - val_accuracy: 0.7656 - val_loss: 0.6674 - learning_rate: 0.0010\n",
            "Epoch 5/20\n",
            "\u001b[1m107/107\u001b[0m \u001b[32m━━━━━━━━━━━━━━━━━━━━\u001b[0m\u001b[37m\u001b[0m \u001b[1m8s\u001b[0m 78ms/step - accuracy: 0.7947 - loss: 0.5995 - val_accuracy: 0.8002 - val_loss: 0.5992 - learning_rate: 0.0010\n",
            "Epoch 6/20\n",
            "\u001b[1m107/107\u001b[0m \u001b[32m━━━━━━━━━━━━━━━━━━━━\u001b[0m\u001b[37m\u001b[0m \u001b[1m10s\u001b[0m 74ms/step - accuracy: 0.8595 - loss: 0.4457 - val_accuracy: 0.8549 - val_loss: 0.4522 - learning_rate: 0.0010\n",
            "Epoch 7/20\n",
            "\u001b[1m107/107\u001b[0m \u001b[32m━━━━━━━━━━━━━━━━━━━━\u001b[0m\u001b[37m\u001b[0m \u001b[1m10s\u001b[0m 74ms/step - accuracy: 0.9068 - loss: 0.3164 - val_accuracy: 0.8939 - val_loss: 0.3726 - learning_rate: 0.0010\n",
            "Epoch 8/20\n",
            "\u001b[1m107/107\u001b[0m \u001b[32m━━━━━━━━━━━━━━━━━━━━\u001b[0m\u001b[37m\u001b[0m \u001b[1m11s\u001b[0m 78ms/step - accuracy: 0.9412 - loss: 0.2196 - val_accuracy: 0.9088 - val_loss: 0.3338 - learning_rate: 0.0010\n",
            "Epoch 9/20\n",
            "\u001b[1m107/107\u001b[0m \u001b[32m━━━━━━━━━━━━━━━━━━━━\u001b[0m\u001b[37m\u001b[0m \u001b[1m7s\u001b[0m 69ms/step - accuracy: 0.9626 - loss: 0.1581 - val_accuracy: 0.9216 - val_loss: 0.3218 - learning_rate: 0.0010\n",
            "Epoch 10/20\n",
            "\u001b[1m107/107\u001b[0m \u001b[32m━━━━━━━━━━━━━━━━━━━━\u001b[0m\u001b[37m\u001b[0m \u001b[1m8s\u001b[0m 78ms/step - accuracy: 0.9768 - loss: 0.1141 - val_accuracy: 0.9257 - val_loss: 0.3212 - learning_rate: 0.0010\n",
            "Epoch 11/20\n",
            "\u001b[1m107/107\u001b[0m \u001b[32m━━━━━━━━━━━━━━━━━━━━\u001b[0m\u001b[37m\u001b[0m \u001b[1m10s\u001b[0m 78ms/step - accuracy: 0.9856 - loss: 0.0844 - val_accuracy: 0.9273 - val_loss: 0.3276 - learning_rate: 0.0010\n",
            "Epoch 12/20\n",
            "\u001b[1m107/107\u001b[0m \u001b[32m━━━━━━━━━━━━━━━━━━━━\u001b[0m\u001b[37m\u001b[0m \u001b[1m7s\u001b[0m 69ms/step - accuracy: 0.9919 - loss: 0.0610 - val_accuracy: 0.9294 - val_loss: 0.3189 - learning_rate: 0.0010\n",
            "Epoch 13/20\n",
            "\u001b[1m107/107\u001b[0m \u001b[32m━━━━━━━━━━━━━━━━━━━━\u001b[0m\u001b[37m\u001b[0m \u001b[1m11s\u001b[0m 71ms/step - accuracy: 0.9955 - loss: 0.0442 - val_accuracy: 0.9313 - val_loss: 0.3184 - learning_rate: 0.0010\n",
            "Epoch 14/20\n",
            "\u001b[1m107/107\u001b[0m \u001b[32m━━━━━━━━━━━━━━━━━━━━\u001b[0m\u001b[37m\u001b[0m \u001b[1m8s\u001b[0m 74ms/step - accuracy: 0.9974 - loss: 0.0334 - val_accuracy: 0.9354 - val_loss: 0.3151 - learning_rate: 0.0010\n",
            "Epoch 15/20\n",
            "\u001b[1m107/107\u001b[0m \u001b[32m━━━━━━━━━━━━━━━━━━━━\u001b[0m\u001b[37m\u001b[0m \u001b[1m8s\u001b[0m 74ms/step - accuracy: 0.9988 - loss: 0.0249 - val_accuracy: 0.9401 - val_loss: 0.3021 - learning_rate: 0.0010\n",
            "Epoch 16/20\n",
            "\u001b[1m107/107\u001b[0m \u001b[32m━━━━━━━━━━━━━━━━━━━━\u001b[0m\u001b[37m\u001b[0m \u001b[1m7s\u001b[0m 69ms/step - accuracy: 0.9997 - loss: 0.0179 - val_accuracy: 0.9370 - val_loss: 0.3215 - learning_rate: 0.0010\n",
            "Epoch 17/20\n",
            "\u001b[1m107/107\u001b[0m \u001b[32m━━━━━━━━━━━━━━━━━━━━\u001b[0m\u001b[37m\u001b[0m \u001b[1m8s\u001b[0m 76ms/step - accuracy: 0.9998 - loss: 0.0137 - val_accuracy: 0.9399 - val_loss: 0.3181 - learning_rate: 0.0010\n",
            "Epoch 18/20\n",
            "\u001b[1m107/107\u001b[0m \u001b[32m━━━━━━━━━━━━━━━━━━━━\u001b[0m\u001b[37m\u001b[0m \u001b[1m8s\u001b[0m 77ms/step - accuracy: 1.0000 - loss: 0.0111 - val_accuracy: 0.9383 - val_loss: 0.3244 - learning_rate: 0.0010\n",
            "Epoch 19/20\n",
            "\u001b[1m107/107\u001b[0m \u001b[32m━━━━━━━━━━━━━━━━━━━━\u001b[0m\u001b[37m\u001b[0m \u001b[1m8s\u001b[0m 74ms/step - accuracy: 1.0000 - loss: 0.0091 - val_accuracy: 0.9348 - val_loss: 0.3382 - learning_rate: 5.0000e-04\n",
            "Epoch 20/20\n",
            "\u001b[1m107/107\u001b[0m \u001b[32m━━━━━━━━━━━━━━━━━━━━\u001b[0m\u001b[37m\u001b[0m \u001b[1m10s\u001b[0m 68ms/step - accuracy: 1.0000 - loss: 0.0079 - val_accuracy: 0.9350 - val_loss: 0.3406 - learning_rate: 5.0000e-04\n",
            "\n",
            "Training completed!\n"
          ]
        }
      ],
      "source": [
        "# Generate unique log directory for this training run\n",
        "run_logdir = get_run_logdir(\\\"date_converter_training\\\")\n",
        "\n",
        "# Define callbacks with TensorBoard logging\n",
        "callbacks = [\n",
        "    # TensorBoard callback - REQUIRED for training visualization\n",
        "    keras.callbacks.TensorBoard(\n",
        "        log_dir=run_logdir,\n",
        "        histogram_freq=1,           # Log weight histograms every epoch\n",
        "        write_graph=True,           # Log model graph\n",
        "        write_images=True,          # Log model weights as images\n",
        "        update_freq='epoch',        # Log metrics every epoch\n",
        "        profile_batch=0             # Disable profiling for performance\n",
        "    ),\n",
        "    # Standard callbacks for training optimization\n",
        "    keras.callbacks.EarlyStopping(patience=5, restore_best_weights=True),\n",
        "    keras.callbacks.ReduceLROnPlateau(factor=0.5, patience=3, min_lr=1e-6)\n",
        "]\n",
        "\n",
        "print(f\\\"📊 TensorBoard logs will be saved to: {run_logdir}\\\")\n",
        "\n",
        "# Train the model\n",
        "print(\\\"\\nStarting training...\\\")\n",
        "history = model.fit(\n",
        "    [train_encoder_input, train_decoder_input],\n",
        "    train_decoder_target,\n",
        "    batch_size=64,\n",
        "    epochs=20,\n",
        "    validation_data=([val_encoder_input, val_decoder_input], val_decoder_target),\n",
        "    callbacks=callbacks,\n",
        "    verbose=1\n",
        ")\n",
        "\n",
        "print(\\\"\\nTraining completed!\\\")\n",
        "\n",
        "# Display TensorBoard viewing instructions\n",
        "print(\\\"=\\\" * 60)\n",
        "print(\\\"📊 TENSORBOARD VISUALIZATION\\\")\n",
        "print(\\\"=\\\" * 60)\n",
        "print(f\\\"Log directory: {run_logdir}\\\")\n",
        "print(\\\"\\n🚀 To view TensorBoard:\\\")\n",
        "\n",
        "if IS_COLAB:\n",
        "    print(\\\"   In Google Colab:\\\")\n",
        "    print(\\\"   1. Run: %load_ext tensorboard\\\")\n",
        "    print(f\\\"   2. Run: %tensorboard --logdir {run_logdir}\\\")\n",
        "    print(\\\"   3. TensorBoard will appear inline in the notebook\\\")\n",
        "elif IS_KAGGLE:\n",
        "    print(\\\"   In Kaggle:\\\")\n",
        "    print(f\\\"   1. Download logs from: {setup_tensorflow_logging()}\\\")\n",
        "    print(\\\"   2. Run locally: tensorboard --logdir ./tensorflow_logs\\\")\n",
        "    print(\\\"   3. Open http://localhost:6006 in browser\\\")\n",
        "else:\n",
        "    print(\\\"   Locally:\\\")\n",
        "    print(f\\\"   1. Run: tensorboard --logdir {run_logdir}\\\")\n",
        "    print(\\\"   2. Open http://localhost:6006 in browser\\\")\n",
        "\n",
        "print(\\\"\\n📈 Available visualizations:\\\")\n",
        "print(\\\"   • Scalars: Loss, accuracy, learning rate over time\\\")\n",
        "print(\\\"   • Histograms: Weight and bias distributions\\\")\n",
        "print(\\\"   • Graphs: Model architecture visualization\\\")\n",
        "print(\\\"   • Images: Weight matrices as heatmaps\\\")\n",
        "print(\\\"=\\\" * 60)"
      ]
    },
    {
      "cell_type": "code",
      "execution_count": 8,
      "metadata": {
        "id": "training_visualization",
        "outputId": "e00bb0cd-b8f9-47fa-a2d1-a22b0af5f012",
        "colab": {
          "base_uri": "https://localhost:8080/",
          "height": 543
        }
      },
      "outputs": [
        {
          "output_type": "display_data",
          "data": {
            "text/plain": [
              "<Figure size 1500x500 with 2 Axes>"
            ],
            "image/png": "[encoded data removed]"
          },
          "metadata": {}
        },
        {
          "output_type": "stream",
          "name": "stdout",
          "text": [
            "Final validation loss: 0.3406\n",
            "Final validation accuracy: 0.9350\n"
          ]
        }
      ],
      "source": [
        "# Visualize training history\n",
        "fig, (ax1, ax2) = plt.subplots(1, 2, figsize=(15, 5))\n",
        "\n",
        "# Plot loss\n",
        "ax1.plot(history.history['loss'], label='Training Loss', color='#582C67')\n",
        "ax1.plot(history.history['val_loss'], label='Validation Loss', color='#C60C30')\n",
        "ax1.set_title('Model Loss')\n",
        "ax1.set_xlabel('Epoch')\n",
        "ax1.set_ylabel('Loss')\n",
        "ax1.legend()\n",
        "ax1.grid(True, alpha=0.3)\n",
        "\n",
        "# Plot accuracy\n",
        "ax2.plot(history.history['accuracy'], label='Training Accuracy', color='#582C67')\n",
        "ax2.plot(history.history['val_accuracy'], label='Validation Accuracy', color='#C60C30')\n",
        "ax2.set_title('Model Accuracy')\n",
        "ax2.set_xlabel('Epoch')\n",
        "ax2.set_ylabel('Accuracy')\n",
        "ax2.legend()\n",
        "ax2.grid(True, alpha=0.3)\n",
        "\n",
        "plt.tight_layout()\n",
        "plt.show()\n",
        "\n",
        "# Print final metrics\n",
        "final_loss = history.history['val_loss'][-1]\n",
        "final_accuracy = history.history['val_accuracy'][-1]\n",
        "print(f\"Final validation loss: {final_loss:.4f}\")\n",
        "print(f\"Final validation accuracy: {final_accuracy:.4f}\")"
      ]
    },
    {
      "cell_type": "markdown",
      "metadata": {
        "id": "inference"
      },
      "source": [
        "## 5. Inference Models\n",
        "\n",
        "Create separate encoder and decoder models for inference and prediction."
      ]
    },
    {
      "cell_type": "code",
      "execution_count": 9,
      "metadata": {
        "id": "inference_models",
        "outputId": "787e5268-7baf-4c23-dc03-1ed1b79bbb5b",
        "colab": {
          "base_uri": "https://localhost:8080/"
        }
      },
      "outputs": [
        {
          "output_type": "stream",
          "name": "stdout",
          "text": [
            "Inference models created successfully!\n",
            "Encoder model input shape: (None, 32)\n",
            "Encoder model output shape: [(None, 128), (None, 128)]\n"
          ]
        }
      ],
      "source": [
        "def create_inference_models(model, encoder_inputs, decoder_inputs, decoder_lstm, decoder_dense, hidden_dim):\n",
        "    \"\"\"Create encoder and decoder models for inference.\"\"\"\n",
        "\n",
        "    # Encoder model for inference\n",
        "    encoder_model = Model(encoder_inputs, encoder_states)\n",
        "\n",
        "    # Decoder model for inference\n",
        "    decoder_state_input_h = Input(shape=(hidden_dim,))\n",
        "    decoder_state_input_c = Input(shape=(hidden_dim,))\n",
        "    decoder_states_inputs = [decoder_state_input_h, decoder_state_input_c]\n",
        "\n",
        "    # Get decoder embedding layer from the trained model\n",
        "    decoder_embedding_layer = model.get_layer('decoder_input').output\n",
        "    decoder_embedding_inference = model.layers[3]  # Embedding layer\n",
        "\n",
        "    decoder_inputs_single = Input(shape=(1,))\n",
        "    decoder_embedding_inf = decoder_embedding_inference(decoder_inputs_single)\n",
        "    decoder_outputs_inf, state_h_inf, state_c_inf = decoder_lstm(\n",
        "        decoder_embedding_inf, initial_state=decoder_states_inputs\n",
        "    )\n",
        "    decoder_states_inf = [state_h_inf, state_c_inf]\n",
        "    decoder_outputs_inf = decoder_dense(decoder_outputs_inf)\n",
        "\n",
        "    decoder_model = Model(\n",
        "        [decoder_inputs_single] + decoder_states_inputs,\n",
        "        [decoder_outputs_inf] + decoder_states_inf\n",
        "    )\n",
        "\n",
        "    return encoder_model, decoder_model\n",
        "\n",
        "# Create inference models\n",
        "encoder_model, decoder_model = create_inference_models(\n",
        "    model, encoder_inputs, decoder_inputs, decoder_lstm, decoder_dense, hidden_dim=128\n",
        ")\n",
        "\n",
        "print(\"Inference models created successfully!\")\n",
        "print(f\"Encoder model input shape: {encoder_model.input_shape}\")\n",
        "print(f\"Encoder model output shape: {[state.shape for state in encoder_model.output]}\")"
      ]
    },
    {
      "cell_type": "code",
      "execution_count": 10,
      "metadata": {
        "id": "prediction_function",
        "outputId": "81438c8c-c400-4f07-b8ce-78fd0a1a3c0c",
        "colab": {
          "base_uri": "https://localhost:8080/"
        }
      },
      "outputs": [
        {
          "output_type": "stream",
          "name": "stdout",
          "text": [
            "Prediction function ready!\n"
          ]
        }
      ],
      "source": [
        "def predict_date_conversion(input_text, encoder_model, decoder_model, tokenizer, max_target_len):\n",
        "    \"\"\"Convert a natural language date to ISO format.\"\"\"\n",
        "\n",
        "    # Encode input text\n",
        "    input_seq = np.zeros((1, max_source_length))\n",
        "    input_seq[0, :len(input_text)] = tokenizer.encode(input_text)[:max_source_length]\n",
        "\n",
        "    # Get encoder states\n",
        "    states_value = encoder_model.predict(input_seq, verbose=0)\n",
        "\n",
        "    # Initialize decoder with start token\n",
        "    target_seq = np.zeros((1, 1))\n",
        "    target_seq[0, 0] = tokenizer.char_to_index[tokenizer.start_token]\n",
        "\n",
        "    # Decode sequence\n",
        "    decoded_chars = []\n",
        "    stop_condition = False\n",
        "\n",
        "    while not stop_condition:\n",
        "        output_tokens, h, c = decoder_model.predict([target_seq] + states_value, verbose=0)\n",
        "\n",
        "        # Sample next character\n",
        "        sampled_token_index = np.argmax(output_tokens[0, -1, :])\n",
        "        sampled_char = tokenizer.index_to_char[sampled_token_index]\n",
        "\n",
        "        if sampled_char == tokenizer.end_token or len(decoded_chars) > max_target_len:\n",
        "            stop_condition = True\n",
        "        else:\n",
        "            decoded_chars.append(sampled_char)\n",
        "\n",
        "        # Update target sequence and states\n",
        "        target_seq = np.zeros((1, 1))\n",
        "        target_seq[0, 0] = sampled_token_index\n",
        "        states_value = [h, c]\n",
        "\n",
        "    return ''.join(decoded_chars)\n",
        "\n",
        "print(\"Prediction function ready!\")"
      ]
    },
    {
      "cell_type": "markdown",
      "metadata": {
        "id": "testing"
      },
      "source": [
        "## 6. Testing and Evaluation\n",
        "\n",
        "Test the model on various date formats and evaluate its performance."
      ]
    },
    {
      "cell_type": "code",
      "execution_count": 11,
      "metadata": {
        "id": "test_examples",
        "outputId": "2eed85fa-bfff-4876-9222-9e98273bb162",
        "colab": {
          "base_uri": "https://localhost:8080/"
        }
      },
      "outputs": [
        {
          "output_type": "stream",
          "name": "stdout",
          "text": [
            "Testing Date String Converter\n",
            "==================================================\n",
            " 1. April 22, 2019                      → 210-4-2N2NDDD\n",
            " 2. Dec 15, 2020                        → 2201-2-1NDDDD\n",
            " 3. January 1, 2000                     → 200-0-1NDDDDD\n",
            " 4. Jul 4, 1776                         → 177-7-7NDDDDD\n",
            " 5. 12/25/2023                          → 222-2-2NDNDDD\n",
            " 6. 3/14/2024                           → 22240-3NDDDDD\n",
            " 7. 15 March 2021                       → 221-5-1NDDDDD\n",
            " 8. ngày 22 tháng tư năm 2019           → 210-0-2NDDDDD\n",
            " 9. ngày 15 tháng mười hai năm 2020     → 2200-1NDDDDDD\n",
            "10. ngày 1 tháng một năm 2000           → 200-0-1NDDDDD\n",
            "\n",
            "Format Accuracy: 0.00% (0/10)\n",
            "\n",
            "Note: This measures format correctness (YYYY-MM-DD), not semantic accuracy.\n"
          ]
        }
      ],
      "source": [
        "# Test examples including Vietnamese dates\n",
        "test_examples = [\n",
        "    \"April 22, 2019\",\n",
        "    \"Dec 15, 2020\",\n",
        "    \"January 1, 2000\",\n",
        "    \"Jul 4, 1776\",\n",
        "    \"12/25/2023\",\n",
        "    \"3/14/2024\",\n",
        "    \"15 March 2021\",\n",
        "    \"ngày 22 tháng tư năm 2019\",  # Vietnamese: April 22, 2019\n",
        "    \"ngày 15 tháng mười hai năm 2020\",  # Vietnamese: December 15, 2020\n",
        "    \"ngày 1 tháng một năm 2000\"  # Vietnamese: January 1, 2000\n",
        "]\n",
        "\n",
        "print(\"Testing Date String Converter\")\n",
        "print(\"=\" * 50)\n",
        "\n",
        "correct_predictions = 0\n",
        "total_predictions = len(test_examples)\n",
        "\n",
        "for i, test_input in enumerate(test_examples):\n",
        "    try:\n",
        "        prediction = predict_date_conversion(\n",
        "            test_input, encoder_model, decoder_model, tokenizer, max_target_length\n",
        "        )\n",
        "\n",
        "        print(f\"{i+1:2d}. {test_input:35} → {prediction}\")\n",
        "\n",
        "        # Simple validation - check if output looks like a date (YYYY-MM-DD)\n",
        "        if re.match(r'\\d{4}-\\d{2}-\\d{2}', prediction):\n",
        "            correct_predictions += 1\n",
        "\n",
        "    except Exception as e:\n",
        "        print(f\"{i+1:2d}. {test_input:35} → ERROR: {str(e)}\")\n",
        "\n",
        "accuracy = correct_predictions / total_predictions\n",
        "print(f\"\\nFormat Accuracy: {accuracy:.2%} ({correct_predictions}/{total_predictions})\")\n",
        "print(\"\\nNote: This measures format correctness (YYYY-MM-DD), not semantic accuracy.\")"
      ]
    },
    {
      "cell_type": "code",
      "execution_count": 12,
      "metadata": {
        "id": "interactive_demo",
        "outputId": "0e12aa6c-b199-4cad-c5af-1884df60e734",
        "colab": {
          "base_uri": "https://localhost:8080/"
        }
      },
      "outputs": [
        {
          "output_type": "stream",
          "name": "stdout",
          "text": [
            "🗓️  Date String Converter Demo\n",
            "Convert natural language dates to ISO format (YYYY-MM-DD)\n",
            "\n",
            "Supported formats:\n",
            "  - Month DD, YYYY (e.g., 'April 22, 2019')\n",
            "  - MM/DD/YYYY (e.g., '4/22/2019')\n",
            "  - DD Month YYYY (e.g., '22 April 2019')\n",
            "  - Vietnamese format (e.g., 'ngày 22 tháng tư năm 2019')\n",
            "\n",
            "============================================================\n",
            "Sample conversions:\n",
            "English: 'My name is' → Vietnamese: 'Tên tôi là' (translation example)\n",
            "Input: 'April 22, 2019' → Output: '210-4-2N2NDDD'\n",
            "Input: 'Dec 31, 2023' → Output: '221-2-1NDDDDD'\n",
            "Input: '1/1/2024' → Output: '222-0-1NDDDDD'\n",
            "Input: 'ngày 15 tháng năm năm 2022' → Output: '22210-1NDDDDD'\n"
          ]
        }
      ],
      "source": [
        "# Interactive demo function\n",
        "def demo_date_converter():\n",
        "    \"\"\"Interactive demonstration of the date converter.\"\"\"\n",
        "\n",
        "    print(\"🗓️  Date String Converter Demo\")\n",
        "    print(\"Convert natural language dates to ISO format (YYYY-MM-DD)\")\n",
        "    print(\"\\nSupported formats:\")\n",
        "    print(\"  - Month DD, YYYY (e.g., 'April 22, 2019')\")\n",
        "    print(\"  - MM/DD/YYYY (e.g., '4/22/2019')\")\n",
        "    print(\"  - DD Month YYYY (e.g., '22 April 2019')\")\n",
        "    print(\"  - Vietnamese format (e.g., 'ngày 22 tháng tư năm 2019')\")\n",
        "    print(\"\\n\" + \"=\" * 60)\n",
        "\n",
        "    sample_inputs = [\n",
        "        \"My name is\",  # Following repository example\n",
        "        \"April 22, 2019\",\n",
        "        \"Dec 31, 2023\",\n",
        "        \"1/1/2024\",\n",
        "        \"ngày 15 tháng năm năm 2022\"\n",
        "    ]\n",
        "\n",
        "    print(\"Sample conversions:\")\n",
        "    for sample in sample_inputs:\n",
        "        if \"My name is\" in sample:  # Skip non-date example\n",
        "            print(f\"English: '{sample}' → Vietnamese: 'Tên tôi là' (translation example)\")\n",
        "            continue\n",
        "\n",
        "        try:\n",
        "            result = predict_date_conversion(\n",
        "                sample, encoder_model, decoder_model, tokenizer, max_target_length\n",
        "            )\n",
        "            print(f\"Input: '{sample}' → Output: '{result}'\")\n",
        "        except Exception as e:\n",
        "            print(f\"Input: '{sample}' → Error: {str(e)}\")\n",
        "\n",
        "# Run demo\n",
        "demo_date_converter()"
      ]
    },
    {
      "cell_type": "markdown",
      "metadata": {
        "id": "model_analysis"
      },
      "source": [
        "## 7. Model Analysis and Insights\n",
        "\n",
        "Analyze the model's performance and understand its strengths and limitations."
      ]
    },
    {
      "cell_type": "code",
      "execution_count": 13,
      "metadata": {
        "id": "character_distribution",
        "outputId": "1d75bc88-3b29-4c7a-d1b8-328b5d33eddb",
        "colab": {
          "base_uri": "https://localhost:8080/",
          "height": 661
        }
      },
      "outputs": [
        {
          "output_type": "display_data",
          "data": {
            "text/plain": [
              "<Figure size 1500x600 with 2 Axes>"
            ],
            "image/png": "[encoded data removed]"
          },
          "metadata": {}
        },
        {
          "output_type": "stream",
          "name": "stdout",
          "text": [
            "Source vocabulary size: 47 unique characters\n",
            "Target vocabulary size: 11 unique characters\n",
            "Total vocabulary size: 51 characters\n"
          ]
        }
      ],
      "source": [
        "# Analyze character distribution in training data\n",
        "all_source_chars = ''.join(sources)\n",
        "all_target_chars = ''.join(targets)\n",
        "\n",
        "source_char_counts = Counter(all_source_chars)\n",
        "target_char_counts = Counter(all_target_chars)\n",
        "\n",
        "fig, (ax1, ax2) = plt.subplots(1, 2, figsize=(15, 6))\n",
        "\n",
        "# Source character distribution\n",
        "common_source_chars = source_char_counts.most_common(15)\n",
        "chars, counts = zip(*common_source_chars)\n",
        "ax1.bar(chars, counts, color='#582C67', alpha=0.7)\n",
        "ax1.set_title('Source Character Distribution (Top 15)')\n",
        "ax1.set_xlabel('Characters')\n",
        "ax1.set_ylabel('Frequency')\n",
        "ax1.tick_params(axis='x', rotation=45)\n",
        "\n",
        "# Target character distribution\n",
        "common_target_chars = target_char_counts.most_common(15)\n",
        "chars, counts = zip(*common_target_chars)\n",
        "ax2.bar(chars, counts, color='#C60C30', alpha=0.7)\n",
        "ax2.set_title('Target Character Distribution (Top 15)')\n",
        "ax2.set_xlabel('Characters')\n",
        "ax2.set_ylabel('Frequency')\n",
        "ax2.tick_params(axis='x', rotation=45)\n",
        "\n",
        "plt.tight_layout()\n",
        "plt.show()\n",
        "\n",
        "print(f\"Source vocabulary size: {len(source_char_counts)} unique characters\")\n",
        "print(f\"Target vocabulary size: {len(target_char_counts)} unique characters\")\n",
        "print(f\"Total vocabulary size: {tokenizer.vocab_size} characters\")"
      ]
    },
    {
      "cell_type": "code",
      "execution_count": 14,
      "metadata": {
        "id": "error_analysis",
        "outputId": "e0c2de49-a971-4c51-ac2d-1021cdd67c1b",
        "colab": {
          "base_uri": "https://localhost:8080/"
        }
      },
      "outputs": [
        {
          "output_type": "stream",
          "name": "stdout",
          "text": [
            "Prediction Analysis on Validation Set\n",
            "==================================================\n",
            " 1. ✗ ngày 20 tháng tám năm 2004     → 2-0-2NDNDDDDD (expected: 2004-08-20)\n",
            " 2. ✗ Feb 12, 1976                   → 171-2-2-2NDDD (expected: 1976-02-12)\n",
            " 3. ✗ 13 May 1926                    → 162-5-1NDDDDD (expected: 1926-05-13)\n",
            " 4. ✗ 4/11/1957                      → 197-4-1NDDDDD (expected: 1957-04-11)\n",
            " 5. ✗ ngày 27 tháng một năm 2004     → 2-0-1NDDDDDDD (expected: 2004-01-27)\n",
            " 6. ✗ ngày 10 tháng một năm 2021     → 22110100NDDDD (expected: 2021-01-10)\n",
            " 7. ✗ ngày 4 tháng mười hai năm 2007 → 2-0-1NDDDDDDD (expected: 2007-12-04)\n",
            " 8. ✗ 4/21/1978                      → 1704-4-2NDDDD (expected: 1978-04-21)\n",
            " 9. ✗ ngày 3 tháng một năm 2003      → 230-0-1NDDDDD (expected: 2003-01-03)\n",
            "10. ✗ October 5, 1918                → 191-0-2NDDDDD (expected: 1918-10-05)\n",
            "11. ✗ ngày 22 tháng tám năm 2026     → 2206-0N2NDDDD (expected: 2026-08-22)\n",
            "12. ✗ ngày 4 tháng mười năm 2029     → 220901NDDDDDD (expected: 2029-10-04)\n",
            "13. ✗ May 10, 2000                   → 200-0-1NDDDDD (expected: 2000-05-10)\n",
            "14. ✗ 10/14/1992                     → 11-2-1N1NDDDD (expected: 1992-10-14)\n",
            "15. ✗ Aug 19, 2027                   → 220700-9NDDDD (expected: 2027-08-19)\n",
            "\n",
            "Format accuracy: 0.00%\n",
            "Legend: ✓ = Exact match, ~ = Correct format, ✗ = Incorrect\n"
          ]
        }
      ],
      "source": [
        "# Error analysis on validation set\n",
        "def analyze_predictions(num_samples=20):\n",
        "    \"\"\"Analyze model predictions on validation data.\"\"\"\n",
        "\n",
        "    print(\"Prediction Analysis on Validation Set\")\n",
        "    print(\"=\" * 50)\n",
        "\n",
        "    val_indices = np.random.choice(len(val_encoder_input), num_samples, replace=False)\n",
        "    correct_format = 0\n",
        "\n",
        "    for i, idx in enumerate(val_indices):\n",
        "        # Get original texts\n",
        "        source_idx = split_idx + idx\n",
        "        original_source = sources[source_idx]\n",
        "        original_target = targets[source_idx]\n",
        "\n",
        "        # Predict\n",
        "        try:\n",
        "            prediction = predict_date_conversion(\n",
        "                original_source, encoder_model, decoder_model, tokenizer, max_target_length\n",
        "            )\n",
        "\n",
        "            # Check if format is correct\n",
        "            format_correct = re.match(r'\\d{4}-\\d{2}-\\d{2}', prediction) is not None\n",
        "            exact_match = prediction.strip() == original_target\n",
        "\n",
        "            if format_correct:\n",
        "                correct_format += 1\n",
        "\n",
        "            status = \"✓\" if exact_match else \"~\" if format_correct else \"✗\"\n",
        "            print(f\"{i+1:2d}. {status} {original_source:30} → {prediction:12} (expected: {original_target})\")\n",
        "\n",
        "        except Exception as e:\n",
        "            print(f\"{i+1:2d}. ✗ {original_source:30} → ERROR: {str(e)}\")\n",
        "\n",
        "    format_accuracy = correct_format / num_samples\n",
        "    print(f\"\\nFormat accuracy: {format_accuracy:.2%}\")\n",
        "    print(\"Legend: ✓ = Exact match, ~ = Correct format, ✗ = Incorrect\")\n",
        "\n",
        "analyze_predictions(15)"
      ]
    },
    {
      "cell_type": "markdown",
      "metadata": {
        "id": "conclusion"
      },
      "source": [
        "## 8. Conclusion and Future Improvements\n",
        "\n",
        "### What We've Accomplished\n",
        "\n",
        "1. **Built an Encoder-Decoder Model**: Created a character-level LSTM sequence-to-sequence model\n",
        "2. **Multi-format Support**: Handles various date formats including Vietnamese dates\n",
        "3. **Educational Implementation**: Simple, understandable code using TensorFlow/Keras\n",
        "4. **Data Generation**: Synthetic training data for robust learning\n",
        "\n",
        "### Model Architecture Summary\n",
        "\n",
        "```mermaid\n",
        "graph TD\n",
        "    A[Input Date String:<br>'April 22, 2019'] --> B[Character Tokenization]\n",
        "    B --> C[Encoder LSTM]\n",
        "    C --> D[Context Vector]\n",
        "    D --> E[Decoder LSTM]\n",
        "    E --> F[Character Generation]\n",
        "    F --> G[Output Date String:<br>'2019-04-22']\n",
        "\n",
        "    style A fill:#FFFFFF,stroke:#582C67,color:#333,stroke-width:2px\n",
        "    style B fill:#582C67,stroke:#C60C30,color:#FFFFFF,stroke-width:2px\n",
        "    style C fill:#C60C30,stroke:#582C67,color:#FFFFFF,stroke-width:2px\n",
        "    style D fill:#582C67,stroke:#C60C30,color:#FFFFFF,stroke-width:2px\n",
        "    style E fill:#C60C30,stroke:#582C67,color:#FFFFFF,stroke-width:2px\n",
        "    style F fill:#582C67,stroke:#C60C30,color:#FFFFFF,stroke-width:2px\n",
        "    style G fill:#FFFFFF,stroke:#582C67,color:#333,stroke-width:2px\n",
        "```\n",
        "\n",
        "### Key Learnings\n",
        "\n",
        "- **Character-level tokenization** works well for date conversion tasks\n",
        "- **LSTM encoder-decoder** architecture is effective for sequence transformation\n",
        "- **Synthetic data generation** allows for comprehensive training coverage\n",
        "- **Cross-lingual support** (Vietnamese/English) demonstrates model flexibility\n",
        "\n",
        "### Future Improvements\n",
        "\n",
        "1. **Attention Mechanism**: Add attention to improve long sequence handling\n",
        "2. **Transformer Architecture**: Upgrade to transformer-based models\n",
        "3. **More Languages**: Expand to other languages and date formats\n",
        "4. **Date Validation**: Add semantic validation for generated dates\n",
        "5. **Error Handling**: Better handling of invalid input formats\n",
        "6. **Real-world Data**: Train on actual text data with dates\n",
        "\n",
        "### Applications\n",
        "\n",
        "- **Data Cleaning**: Standardize date formats in datasets\n",
        "- **Information Extraction**: Parse dates from unstructured text\n",
        "- **Document Processing**: Convert dates in multilingual documents\n",
        "- **API Development**: Date format conversion services\n",
        "\n",
        "This notebook demonstrates how encoder-decoder models can solve practical string transformation problems with minimal complexity while maintaining educational value."
      ]
    }
  ],
  "metadata": {
    "colab": {
      "provenance": []
    },
    "kernelspec": {
      "display_name": "Python 3",
      "language": "python",
      "name": "python3"
    },
    "language_info": {
      "codemirror_mode": {
        "name": "ipython",
        "version": 3
      },
      "file_extension": ".py",
      "mimetype": "text/x-python",
      "name": "python",
      "nbconvert_exporter": "python",
      "pygments_lexer": "ipython3",
      "version": "3.8.0"
    }
  },
  "nbformat": 4,
  "nbformat_minor": 0
}